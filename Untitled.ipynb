{
 "cells": [
  {
   "cell_type": "code",
   "execution_count": null,
   "metadata": {},
   "outputs": [],
   "source": [
    "#for row in reader\n",
    "#for row in reader[:5]\n",
    "#count = 0\n",
    "#for row in reader:\n",
    "#if count <5\n",
    "#write row\n",
    "#count += 1"
   ]
  },
  {
   "cell_type": "code",
   "execution_count": 7,
   "metadata": {},
   "outputs": [],
   "source": [
    "#with open('Lyrics/azlyrics-scraper/azlyrics_lyrics_a.csv', 'r') as f:\n",
    "    #lyricsa = f.read()\n",
    "\n",
    "import csv\n",
    "\n",
    "with open('Lyrics/azlyrics-scraper/azlyrics_lyrics_a.csv', 'r', newline='') as f:\n",
    "    reader = csv.reader(f)\n",
    "    for row in reader:\n",
    "        def fix(row):\n",
    "            if not row[5]:\n",
    "                return row[4]\n",
    "            else:\n",
    "                return ' '.join(row[4:])\n",
    "with open('Lyrics/newlyrics_a.csv', 'w+', newline='') as lyricsa:\n",
    "    wr = csv.writer(fix(row), delimiter=' ', quoting=csv.QUOTE_MINIMAL)\n",
    "    wr.writerow(lyricsa)"
   ]
  },
  {
   "cell_type": "markdown",
   "metadata": {},
   "source": []
  },
  {
   "cell_type": "code",
   "execution_count": null,
   "metadata": {},
   "outputs": [],
   "source": [
    "x = [',', '\\\"']\n",
    "string = lyricsa\n",
    "for a in x:\n",
    "    string = string.replace(a, '')\n",
    "print(string)\n",
    "#lyricsa.replace(',,,,,,,,,,,,,,,,,,,,,,,,,,,,,,,,,,,,,,,,,,,,,,,,,,,,,,,,,,,,,,,,,,,,,,,,,,,,,,,,,,,,,,,,,,,,,,,,,,,,,,,,,,,,,,,,,,,,,,,,,,,,,,,,,,,,,,,,,,,,,,,,,,,,,,,,,,,,,,,,,,,,,,,,,,,,,,,,,,,,,,,,,,,,,,,,,,,,,,,,,,,,,,,,,,,,,,,,,,,,,,,,,,,,,,,,,,,,,,,,,,,,,,,,,,,', '')\n",
    "#lyricsa.replace('\"', '')\n",
    "#lyricsa.split(sep=',', maxsplit=5)\n",
    "#lyricsa.splitlines(True)"
   ]
  },
  {
   "cell_type": "code",
   "execution_count": null,
   "metadata": {},
   "outputs": [],
   "source": [
    "string1 = string.splitlines()"
   ]
  },
  {
   "cell_type": "code",
   "execution_count": null,
   "metadata": {},
   "outputs": [],
   "source": [
    "string2 = string1.split(sep=',', maxsplit=5)"
   ]
  },
  {
   "cell_type": "code",
   "execution_count": null,
   "metadata": {},
   "outputs": [],
   "source": [
    "with open('filename', 'wb') as myfile:\n",
    "    wr = csv.writer(myfile, quoting=csv.QUOTE_ALL)\n",
    "    wr.writerow(mylist)"
   ]
  }
 ],
 "metadata": {
  "kernelspec": {
   "display_name": "Python 3",
   "language": "python",
   "name": "python3"
  },
  "language_info": {
   "codemirror_mode": {
    "name": "ipython",
    "version": 3
   },
   "file_extension": ".py",
   "mimetype": "text/x-python",
   "name": "python",
   "nbconvert_exporter": "python",
   "pygments_lexer": "ipython3",
   "version": "3.7.4"
  }
 },
 "nbformat": 4,
 "nbformat_minor": 2
}
